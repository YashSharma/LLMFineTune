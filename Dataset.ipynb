{
 "cells": [
  {
   "cell_type": "markdown",
   "metadata": {},
   "source": [
    "### Note\n",
    "\n",
    "Pre-processing code for adding Question-Answer format column to datasets."
   ]
  },
  {
   "cell_type": "markdown",
   "metadata": {},
   "source": [
    "### Set Hugging Face Token"
   ]
  },
  {
   "cell_type": "code",
   "execution_count": 1,
   "metadata": {},
   "outputs": [],
   "source": [
    "token = #####\n",
    "\n",
    "from huggingface_hub import login\n",
    "login()"
   ]
  },
  {
   "cell_type": "code",
   "execution_count": 1,
   "metadata": {},
   "outputs": [],
   "source": [
    "import os\n",
    "import random\n",
    "from datasets import load_dataset\n",
    "import pandas as pd\n",
    "\n",
    "CACHE_DIR = os.getcwd()+'/cache'"
   ]
  },
  {
   "cell_type": "markdown",
   "metadata": {},
   "source": [
    "### Lima Dataset"
   ]
  },
  {
   "cell_type": "code",
   "execution_count": 2,
   "metadata": {},
   "outputs": [],
   "source": [
    "dataset = load_dataset(\"GAIR/lima\", cache_dir=CACHE_DIR)"
   ]
  },
  {
   "cell_type": "code",
   "execution_count": 3,
   "metadata": {},
   "outputs": [],
   "source": [
    "train_df = dataset['train'].to_pandas()\n",
    "test_df = dataset['train'].to_pandas()"
   ]
  },
  {
   "cell_type": "code",
   "execution_count": 4,
   "metadata": {},
   "outputs": [
    {
     "data": {
      "text/html": [
       "<div>\n",
       "<style scoped>\n",
       "    .dataframe tbody tr th:only-of-type {\n",
       "        vertical-align: middle;\n",
       "    }\n",
       "\n",
       "    .dataframe tbody tr th {\n",
       "        vertical-align: top;\n",
       "    }\n",
       "\n",
       "    .dataframe thead th {\n",
       "        text-align: right;\n",
       "    }\n",
       "</style>\n",
       "<table border=\"1\" class=\"dataframe\">\n",
       "  <thead>\n",
       "    <tr style=\"text-align: right;\">\n",
       "      <th></th>\n",
       "      <th>conversations</th>\n",
       "      <th>source</th>\n",
       "    </tr>\n",
       "  </thead>\n",
       "  <tbody>\n",
       "    <tr>\n",
       "      <th>0</th>\n",
       "      <td>[Can brain cells move? By movement I mean long...</td>\n",
       "      <td>stackexchange</td>\n",
       "    </tr>\n",
       "    <tr>\n",
       "      <th>1</th>\n",
       "      <td>[In our computer systems lecture we were intro...</td>\n",
       "      <td>stackexchange</td>\n",
       "    </tr>\n",
       "    <tr>\n",
       "      <th>2</th>\n",
       "      <td>[View tabular file such as CSV from command li...</td>\n",
       "      <td>stackexchange</td>\n",
       "    </tr>\n",
       "    <tr>\n",
       "      <th>3</th>\n",
       "      <td>[Slater type orbitals (STO) are considered to ...</td>\n",
       "      <td>stackexchange</td>\n",
       "    </tr>\n",
       "    <tr>\n",
       "      <th>4</th>\n",
       "      <td>[Explain what \"git reset\" does. I come from a ...</td>\n",
       "      <td>stackexchange</td>\n",
       "    </tr>\n",
       "  </tbody>\n",
       "</table>\n",
       "</div>"
      ],
      "text/plain": [
       "                                       conversations         source\n",
       "0  [Can brain cells move? By movement I mean long...  stackexchange\n",
       "1  [In our computer systems lecture we were intro...  stackexchange\n",
       "2  [View tabular file such as CSV from command li...  stackexchange\n",
       "3  [Slater type orbitals (STO) are considered to ...  stackexchange\n",
       "4  [Explain what \"git reset\" does. I come from a ...  stackexchange"
      ]
     },
     "execution_count": 4,
     "metadata": {},
     "output_type": "execute_result"
    }
   ],
   "source": [
    "train_df.head()"
   ]
  },
  {
   "cell_type": "code",
   "execution_count": 5,
   "metadata": {},
   "outputs": [],
   "source": [
    "def add_text_column(row):\n",
    "    return f\"###Question:\\n{row['conversations'][0]}\\n\\n###Answer:\\n{row['conversations'][1]}\"\n",
    "\n",
    "train_df['text'] = train_df.apply(lambda x: add_text_column(x), axis=1)\n",
    "test_df['text'] = test_df.apply(lambda x: add_text_column(x), axis=1)"
   ]
  },
  {
   "cell_type": "code",
   "execution_count": 6,
   "metadata": {},
   "outputs": [],
   "source": [
    "train_df.to_csv(\"ProcessedData/lima_train.csv\", index=False)\n",
    "test_df.to_csv(\"ProcessedData/lima_test.csv\", index=False)"
   ]
  },
  {
   "cell_type": "markdown",
   "metadata": {},
   "source": [
    "### SHP Dataset"
   ]
  },
  {
   "cell_type": "code",
   "execution_count": 2,
   "metadata": {},
   "outputs": [],
   "source": [
    "dataset = load_dataset(\"stanfordnlp/shp\", cache_dir=CACHE_DIR, split=\"train\")"
   ]
  },
  {
   "cell_type": "code",
   "execution_count": 12,
   "metadata": {},
   "outputs": [
    {
     "name": "stdout",
     "output_type": "stream",
     "text": [
      "Number of Unique IDs: 38993\n"
     ]
    }
   ],
   "source": [
    "# Filter Data to keep max score row\n",
    "train_df = dataset.to_pandas()\n",
    "\n",
    "print(\"Number of Unique IDs:\", train_df['post_id'].nunique())\n",
    "\n",
    "train_df['max_score'] = train_df.apply(lambda x: x['score_B'] if x['labels']==0 else x['score_A'], axis=1)\n",
    "train_df = train_df.sort_values(by='max_score', ascending=False).reset_index(drop=True)\n",
    "train_df = train_df.drop_duplicates(subset=['post_id']).reset_index(drop=True)\n",
    "train_df['human_ref'] = train_df.apply(lambda x: x['human_ref_A'] if x['labels']==1 else x['human_ref_B'], axis=1)\n",
    "train_df = train_df[['post_id', 'domain', 'history', 'human_ref']]"
   ]
  },
  {
   "cell_type": "code",
   "execution_count": 13,
   "metadata": {},
   "outputs": [
    {
     "data": {
      "text/html": [
       "<div>\n",
       "<style scoped>\n",
       "    .dataframe tbody tr th:only-of-type {\n",
       "        vertical-align: middle;\n",
       "    }\n",
       "\n",
       "    .dataframe tbody tr th {\n",
       "        vertical-align: top;\n",
       "    }\n",
       "\n",
       "    .dataframe thead th {\n",
       "        text-align: right;\n",
       "    }\n",
       "</style>\n",
       "<table border=\"1\" class=\"dataframe\">\n",
       "  <thead>\n",
       "    <tr style=\"text-align: right;\">\n",
       "      <th></th>\n",
       "      <th>post_id</th>\n",
       "      <th>domain</th>\n",
       "      <th>history</th>\n",
       "      <th>human_ref</th>\n",
       "    </tr>\n",
       "  </thead>\n",
       "  <tbody>\n",
       "    <tr>\n",
       "      <th>0</th>\n",
       "      <td>gz5idy</td>\n",
       "      <td>explainlikeimfive_train</td>\n",
       "      <td>Explain like I'm five years old: Why do ships ...</td>\n",
       "      <td>The joke answer is so that the water doesn't h...</td>\n",
       "    </tr>\n",
       "    <tr>\n",
       "      <th>1</th>\n",
       "      <td>9durlp</td>\n",
       "      <td>explainlikeimfive_train</td>\n",
       "      <td>Eli5: Caffeine has almost no calories, but see...</td>\n",
       "      <td>Caffeine works in two ways to make you feel th...</td>\n",
       "    </tr>\n",
       "    <tr>\n",
       "      <th>2</th>\n",
       "      <td>azzxtj</td>\n",
       "      <td>explainlikeimfive_train</td>\n",
       "      <td>Explain like I'm five years old: What makes a ...</td>\n",
       "      <td>If you stab your belly with a knife, first you...</td>\n",
       "    </tr>\n",
       "    <tr>\n",
       "      <th>3</th>\n",
       "      <td>lwmmm9</td>\n",
       "      <td>explainlikeimfive_train</td>\n",
       "      <td>Explain like I'm five years old: Why can your ...</td>\n",
       "      <td>Your brain is like a trash can. Throughout the...</td>\n",
       "    </tr>\n",
       "    <tr>\n",
       "      <th>4</th>\n",
       "      <td>q8cfc6</td>\n",
       "      <td>explainlikeimfive_train</td>\n",
       "      <td>Explain like I'm five years old: Why exactly i...</td>\n",
       "      <td>You know when you're going on vacation, and yo...</td>\n",
       "    </tr>\n",
       "  </tbody>\n",
       "</table>\n",
       "</div>"
      ],
      "text/plain": [
       "  post_id                   domain  \\\n",
       "0  gz5idy  explainlikeimfive_train   \n",
       "1  9durlp  explainlikeimfive_train   \n",
       "2  azzxtj  explainlikeimfive_train   \n",
       "3  lwmmm9  explainlikeimfive_train   \n",
       "4  q8cfc6  explainlikeimfive_train   \n",
       "\n",
       "                                             history  \\\n",
       "0  Explain like I'm five years old: Why do ships ...   \n",
       "1  Eli5: Caffeine has almost no calories, but see...   \n",
       "2  Explain like I'm five years old: What makes a ...   \n",
       "3  Explain like I'm five years old: Why can your ...   \n",
       "4  Explain like I'm five years old: Why exactly i...   \n",
       "\n",
       "                                           human_ref  \n",
       "0  The joke answer is so that the water doesn't h...  \n",
       "1  Caffeine works in two ways to make you feel th...  \n",
       "2  If you stab your belly with a knife, first you...  \n",
       "3  Your brain is like a trash can. Throughout the...  \n",
       "4  You know when you're going on vacation, and yo...  "
      ]
     },
     "execution_count": 13,
     "metadata": {},
     "output_type": "execute_result"
    }
   ],
   "source": [
    "train_df.head()"
   ]
  },
  {
   "cell_type": "code",
   "execution_count": 16,
   "metadata": {},
   "outputs": [],
   "source": [
    "def add_text_column(row):\n",
    "    return f\"###Question:\\n{row['history']}\\n\\n###Answer:\\n{row['human_ref']}\"\n",
    "\n",
    "train_df['text'] = train_df.apply(lambda x: add_text_column(x), axis=1)"
   ]
  },
  {
   "cell_type": "code",
   "execution_count": 12,
   "metadata": {},
   "outputs": [],
   "source": [
    "train_df[['domain', 'text']].to_csv(\"ProcessedData/SHP_train.csv\", index=False)"
   ]
  },
  {
   "cell_type": "markdown",
   "metadata": {},
   "source": [
    "### DPO Comparison Dataset"
   ]
  },
  {
   "cell_type": "code",
   "execution_count": 20,
   "metadata": {},
   "outputs": [
    {
     "data": {
      "application/vnd.jupyter.widget-view+json": {
       "model_id": "c1175a1dd9fb4b5abdd2a4ad2be9dd31",
       "version_major": 2,
       "version_minor": 0
      },
      "text/plain": [
       "Resolving data files:   0%|          | 0/18 [00:00<?, ?it/s]"
      ]
     },
     "metadata": {},
     "output_type": "display_data"
    },
    {
     "data": {
      "application/vnd.jupyter.widget-view+json": {
       "model_id": "8dd2e76642ea401fa230ef8183708944",
       "version_major": 2,
       "version_minor": 0
      },
      "text/plain": [
       "Resolving data files:   0%|          | 0/18 [00:00<?, ?it/s]"
      ]
     },
     "metadata": {},
     "output_type": "display_data"
    },
    {
     "data": {
      "application/vnd.jupyter.widget-view+json": {
       "model_id": "5a10db7fb0fa4078b0a418b381307ad0",
       "version_major": 2,
       "version_minor": 0
      },
      "text/plain": [
       "Resolving data files:   0%|          | 0/18 [00:00<?, ?it/s]"
      ]
     },
     "metadata": {},
     "output_type": "display_data"
    }
   ],
   "source": [
    "dataset = load_dataset(\"stanfordnlp/shp\", cache_dir=CACHE_DIR, split=\"train\")\n",
    "train_df = dataset.to_pandas()"
   ]
  },
  {
   "cell_type": "code",
   "execution_count": 26,
   "metadata": {},
   "outputs": [],
   "source": [
    "train_df['chosen'] = train_df.apply(lambda x: x['human_ref_A'] if x['labels']==1 else x['human_ref_B'], axis=1)\n",
    "train_df['rejected'] = train_df.apply(lambda x: x['human_ref_A'] if x['labels']==0 else x['human_ref_B'], axis=1)\n",
    "\n",
    "train_df = train_df.rename(columns={\"history\": \"prompt\"})"
   ]
  },
  {
   "cell_type": "markdown",
   "metadata": {},
   "source": [
    "### Anthropic Dataset"
   ]
  },
  {
   "cell_type": "code",
   "execution_count": 2,
   "metadata": {},
   "outputs": [],
   "source": [
    "# Download Anthropic to Cache folder\n",
    "dataset_name = 'Anthropic/hh-rlhf'\n",
    "dataset = load_dataset(dataset_name, split=\"train\", cache_dir=CACHE_DIR)"
   ]
  }
 ],
 "metadata": {
  "kernelspec": {
   "display_name": "hface",
   "language": "python",
   "name": "hface"
  },
  "language_info": {
   "codemirror_mode": {
    "name": "ipython",
    "version": 3
   },
   "file_extension": ".py",
   "mimetype": "text/x-python",
   "name": "python",
   "nbconvert_exporter": "python",
   "pygments_lexer": "ipython3",
   "version": "3.8.18"
  }
 },
 "nbformat": 4,
 "nbformat_minor": 4
}
