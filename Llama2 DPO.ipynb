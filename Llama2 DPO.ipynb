{
 "cells": [
  {
   "cell_type": "markdown",
   "metadata": {},
   "source": [
    "### Code Reference:\n",
    "\n",
    "- Hugging Face: https://github.com/huggingface/trl/tree/main/examples/research_projects/stack_llama_2/scripts\n",
    "- Helpful Notebook: \n",
    "    - https://colab.research.google.com/drive/12dVqXZMIVxGI0uutU6HG9RWbWPXL3vts?usp=sharing#scrollTo=yWEM89A48NrU\n",
    "    - https://colab.research.google.com/drive/1PEQyJO1-f6j0S_XJ8DV50NkpzasXkrzd?usp=sharing#scrollTo=OJXpOgBFuSrc\n",
    "    \n",
    "- Interesting Reads:\n",
    "    - https://www.assemblyai.com/blog/how-rlhf-preference-model-tuning-works-and-how-things-may-go-wrong/ \n",
    "    - https://huyenchip.com/2023/05/02/rlhf.html\n",
    "    - https://lightning.ai/pages/community/lora-insights/?utm_medium=social&utm_source=twitter&utm_campaign=Education_10132023"
   ]
  },
  {
   "cell_type": "markdown",
   "metadata": {},
   "source": [
    "### Imports"
   ]
  },
  {
   "cell_type": "code",
   "execution_count": null,
   "metadata": {},
   "outputs": [],
   "source": [
    "import os\n",
    "import torch\n",
    "from accelerate import Accelerator\n",
    "from transformers import AutoModelForCausalLM, AutoTokenizer, BitsAndBytesConfig, AutoTokenizer\n",
    "from datasets import load_dataset\n",
    "from transformers import TrainingArguments\n",
    "from peft import LoraConfig, get_peft_model\n",
    "from trl import DPOTrainer\n",
    "\n",
    "CACHE_DIR = os.getcwd()+'/cache'"
   ]
  },
  {
   "cell_type": "markdown",
   "metadata": {},
   "source": [
    "### Set Hugging Face Token"
   ]
  },
  {
   "cell_type": "code",
   "execution_count": 1,
   "metadata": {},
   "outputs": [
    {
     "data": {
      "application/vnd.jupyter.widget-view+json": {
       "model_id": "c2bbc2fd2fd744ea97002b583cbb72cb",
       "version_major": 2,
       "version_minor": 0
      },
      "text/plain": [
       "VBox(children=(HTML(value='<center> <img\\nsrc=https://huggingface.co/front/assets/huggingface_logo-noborder.sv…"
      ]
     },
     "metadata": {},
     "output_type": "display_data"
    }
   ],
   "source": [
    "token = ###\n",
    "\n",
    "from huggingface_hub import login\n",
    "login()"
   ]
  },
  {
   "cell_type": "markdown",
   "metadata": {},
   "source": [
    "### Comparison Data Set-Up"
   ]
  },
  {
   "cell_type": "markdown",
   "metadata": {},
   "source": [
    "#### SHP"
   ]
  },
  {
   "cell_type": "code",
   "execution_count": null,
   "metadata": {},
   "outputs": [],
   "source": [
    "def get_dataset(test=False):\n",
    "\n",
    "    if test:\n",
    "        dataset = load_dataset(\"stanfordnlp/shp\", cache_dir=CACHE_DIR, split=\"test\")\n",
    "    else:\n",
    "        dataset = load_dataset(\"stanfordnlp/shp\", cache_dir=CACHE_DIR, split=\"train\")\n",
    "\n",
    "    original_columns = dataset.column_names\n",
    "    \n",
    "    def return_prompt_and_responses(samples):\n",
    "        if samples['labels'] == 1:\n",
    "            return {\n",
    "                \"prompt\": [\"###Question:\\n\"+ question + \"\\n\\n###Answer:\\n\" for question in samples['question']],\n",
    "                \"chosen\": samples[\"human_ref_A\"],\n",
    "                \"rejected\": samples[\"human_ref_B\"],\n",
    "            }\n",
    "        else:\n",
    "            return {\n",
    "                \"prompt\": [\"###Question:\\n\"+ question + \"\\n\\n###Answer:\\n\" for question in samples['history']],\n",
    "                \"chosen\": samples[\"human_ref_B\"],\n",
    "                \"rejected\": samples[\"human_ref_A\"],\n",
    "            }\n",
    "        \n",
    "    return dataset.map(\n",
    "        return_prompt_and_responses,\n",
    "        batched=True,\n",
    "        remove_columns=original_columns,\n",
    "    )    "
   ]
  },
  {
   "cell_type": "markdown",
   "metadata": {},
   "source": [
    "#### Anthropic"
   ]
  },
  {
   "cell_type": "code",
   "execution_count": 4,
   "metadata": {},
   "outputs": [],
   "source": [
    "def ha_to_qa(samples):\n",
    "    return {\"chosen\": samples[\"chosen\"].replace(\"Human:\", \"###Question:\\n\").replace(\"Assistant:\", \"###Answer:\\n\"), \\\n",
    "            \"rejected\": samples[\"rejected\"].replace(\"Human:\", \"###Question:\\n\").replace(\"Assistant:\", \"###Answer:\\n\")}\n",
    "\n",
    "def get_dataset(test=False):\n",
    "\n",
    "    if test:\n",
    "        dataset = load_dataset(\"Anthropic/hh-rlhf\", cache_dir=CACHE_DIR, split=\"test\")\n",
    "    else:\n",
    "        dataset = load_dataset(\"Anthropic/hh-rlhf\", cache_dir=CACHE_DIR, split=\"train\")        \n",
    "    \n",
    "    dataset = dataset.map(ha_to_qa)    \n",
    "    \n",
    "    def return_prompt_and_responses(samples):\n",
    "        return {\n",
    "            \"prompt\": [question[:question.rfind(\"Answer:\\n\")+len(\"Answer:\\n\")] for question in samples['chosen']],\n",
    "            \"chosen\": [question[question.rfind(\"Answer:\\n\")+len(\"Answer:\\n\"):] for question in samples['chosen']],\n",
    "            \"rejected\": [question[question.rfind(\"Answer:\\n\")+len(\"Answer:\\n\"):] for question in samples['rejected']],\n",
    "        }\n",
    "        \n",
    "    return dataset.map(\n",
    "        return_prompt_and_responses,\n",
    "        batched=True,\n",
    "    )    "
   ]
  },
  {
   "cell_type": "markdown",
   "metadata": {},
   "source": [
    "### Load SFT Model for DPO"
   ]
  },
  {
   "cell_type": "code",
   "execution_count": 5,
   "metadata": {},
   "outputs": [
    {
     "data": {
      "application/vnd.jupyter.widget-view+json": {
       "model_id": "eaf905e9958649588df503d3a9891cfb",
       "version_major": 2,
       "version_minor": 0
      },
      "text/plain": [
       "Loading checkpoint shards:   0%|          | 0/2 [00:00<?, ?it/s]"
      ]
     },
     "metadata": {},
     "output_type": "display_data"
    }
   ],
   "source": [
    "model_name = \"sft/llama2_sft_orca_1024/merged_model\"\n",
    "#\"sft/llama2_sft_lima_2epochs/merged_model\"\n",
    "#\"sft/llama2_sft_shp\"\n",
    "#\"meta-llama/Llama-2-7b-hf\"\n",
    "\n",
    "# load a pretrained model\n",
    "model = AutoModelForCausalLM.from_pretrained(\n",
    "    model_name,\n",
    "    low_cpu_mem_usage=True,\n",
    "    torch_dtype=torch.float16,\n",
    "    load_in_4bit=True,\n",
    "    cache_dir=CACHE_DIR,\n",
    ")\n",
    "model.config.use_cache = False\n",
    "\n",
    "# load reference model (Same as original) - loaded to avoid too much divergence\n",
    "model_ref = AutoModelForCausalLM.from_pretrained(\n",
    "    model_name,\n",
    "    low_cpu_mem_usage=True,\n",
    "    torch_dtype=torch.float16,\n",
    "    load_in_4bit=True,\n",
    "    cache_dir=CACHE_DIR,\n",
    ")\n",
    "\n",
    "# Load Tokenizer\n",
    "tokenizer = AutoTokenizer.from_pretrained(\"sft/llama2_sft_orca_1024\", cache_dir=CACHE_DIR)\n",
    "tokenizer.pad_token = tokenizer.eos_token"
   ]
  },
  {
   "cell_type": "markdown",
   "metadata": {},
   "source": [
    "### Load Dataset for DPO"
   ]
  },
  {
   "cell_type": "code",
   "execution_count": 9,
   "metadata": {},
   "outputs": [],
   "source": [
    "# Constraint text to max length of 1024\n",
    "MAX_LENGTH = 1024\n",
    "\n",
    "train_dataset = get_dataset()\n",
    "\n",
    "train_dataset = train_dataset.filter(\n",
    "    lambda x: len(x[\"prompt\"]) + len(x[\"chosen\"]) <= MAX_LENGTH\n",
    "    and len(x[\"prompt\"]) + len(x[\"rejected\"]) <= MAX_LENGTH\n",
    ")"
   ]
  },
  {
   "cell_type": "code",
   "execution_count": 10,
   "metadata": {},
   "outputs": [],
   "source": [
    "eval_dataset = get_dataset(test=True)\n",
    "\n",
    "eval_dataset = eval_dataset.filter(\n",
    "    lambda x: len(x[\"prompt\"]) + len(x[\"chosen\"]) <= MAX_LENGTH\n",
    "    and len(x[\"prompt\"]) + len(x[\"rejected\"]) <= MAX_LENGTH\n",
    ")"
   ]
  },
  {
   "cell_type": "markdown",
   "metadata": {},
   "source": [
    "### Training Arguments"
   ]
  },
  {
   "cell_type": "code",
   "execution_count": 11,
   "metadata": {},
   "outputs": [],
   "source": [
    "# Initialize training arguments:\n",
    "training_args = TrainingArguments(\n",
    "    per_device_train_batch_size = 2,\n",
    "    per_device_eval_batch_size = 1,\n",
    "#     max_steps = 1000,\n",
    "    num_train_epochs = 1,\n",
    "    logging_steps = 5000,\n",
    "    save_steps = 5000,\n",
    "    gradient_accumulation_steps = 4,\n",
    "    gradient_checkpointing = 4,\n",
    "    learning_rate = 5e-4,\n",
    "    evaluation_strategy = \"steps\",\n",
    "    eval_steps = 5000,\n",
    "    output_dir = \"sft\",\n",
    "    lr_scheduler_type = \"cosine\",\n",
    "    warmup_steps = 100,\n",
    "    optim = \"paged_adamw_32bit\",\n",
    "    bf16 = True,\n",
    "    remove_unused_columns = False,\n",
    "    run_name = \"dpo_llama2_shp\",\n",
    ")"
   ]
  },
  {
   "cell_type": "markdown",
   "metadata": {},
   "source": [
    "### Peft Config"
   ]
  },
  {
   "cell_type": "code",
   "execution_count": 12,
   "metadata": {},
   "outputs": [],
   "source": [
    "# Set-up PEFT\n",
    "peft_config = LoraConfig(\n",
    "    r = 8,\n",
    "    lora_alpha = 16,\n",
    "    lora_dropout = 0.05,\n",
    "    target_modules=[\n",
    "        \"q_proj\",\n",
    "        \"v_proj\",\n",
    "#         \"k_proj\",\n",
    "#         \"out_proj\",\n",
    "#         \"fc_in\",\n",
    "#         \"fc_out\",\n",
    "#         \"wte\",\n",
    "    ],\n",
    "    bias = \"none\",\n",
    "    task_type = \"CAUSAL_LM\",\n",
    ")"
   ]
  },
  {
   "cell_type": "markdown",
   "metadata": {},
   "source": [
    "### DPO Trainer"
   ]
  },
  {
   "cell_type": "code",
   "execution_count": 13,
   "metadata": {
    "scrolled": true
   },
   "outputs": [
    {
     "name": "stderr",
     "output_type": "stream",
     "text": [
      "Failed to detect the name of this notebook, you can set it manually with the WANDB_NOTEBOOK_NAME environment variable to enable code saving.\n",
      "\u001b[34m\u001b[1mwandb\u001b[0m: Currently logged in as: \u001b[33myashsharma0906\u001b[0m. Use \u001b[1m`wandb login --relogin`\u001b[0m to force relogin\n"
     ]
    },
    {
     "data": {
      "text/html": [
       "Tracking run with wandb version 0.15.12"
      ],
      "text/plain": [
       "<IPython.core.display.HTML object>"
      ]
     },
     "metadata": {},
     "output_type": "display_data"
    },
    {
     "data": {
      "text/html": [
       "Run data is saved locally in <code>/sfs/weka/scratch/ys5hd/HuggingFace/wandb/run-20231105_130203-g2ga0vwy</code>"
      ],
      "text/plain": [
       "<IPython.core.display.HTML object>"
      ]
     },
     "metadata": {},
     "output_type": "display_data"
    },
    {
     "data": {
      "text/html": [
       "Syncing run <strong><a href='https://wandb.ai/yashsharma0906/huggingface/runs/g2ga0vwy' target=\"_blank\">dpo_llama2_shp</a></strong> to <a href='https://wandb.ai/yashsharma0906/huggingface' target=\"_blank\">Weights & Biases</a> (<a href='https://wandb.me/run' target=\"_blank\">docs</a>)<br/>"
      ],
      "text/plain": [
       "<IPython.core.display.HTML object>"
      ]
     },
     "metadata": {},
     "output_type": "display_data"
    },
    {
     "data": {
      "text/html": [
       " View project at <a href='https://wandb.ai/yashsharma0906/huggingface' target=\"_blank\">https://wandb.ai/yashsharma0906/huggingface</a>"
      ],
      "text/plain": [
       "<IPython.core.display.HTML object>"
      ]
     },
     "metadata": {},
     "output_type": "display_data"
    },
    {
     "data": {
      "text/html": [
       " View run at <a href='https://wandb.ai/yashsharma0906/huggingface/runs/g2ga0vwy' target=\"_blank\">https://wandb.ai/yashsharma0906/huggingface/runs/g2ga0vwy</a>"
      ],
      "text/plain": [
       "<IPython.core.display.HTML object>"
      ]
     },
     "metadata": {},
     "output_type": "display_data"
    },
    {
     "name": "stderr",
     "output_type": "stream",
     "text": [
      "/home/ys5hd/.conda/envs/hface/lib/python3.8/site-packages/torch/utils/checkpoint.py:429: UserWarning: torch.utils.checkpoint: please pass in use_reentrant=True or use_reentrant=False explicitly. The default value of use_reentrant will be updated to be False in the future. To maintain current behavior, pass use_reentrant=True. It is recommended that you use use_reentrant=False. Refer to docs for more details on the differences between the two variants.\n",
      "  warnings.warn(\n",
      "/home/ys5hd/.local/lib/python3.8/site-packages/bitsandbytes/nn/modules.py:224: UserWarning: Input type into Linear4bit is torch.float16, but bnb_4bit_compute_type=torch.float32 (default). This will lead to slow inference or training speed.\n",
      "  warnings.warn(f'Input type into Linear4bit is torch.float16, but bnb_4bit_compute_type=torch.float32 (default). This will lead to slow inference or training speed.')\n",
      "Could not estimate the number of tokens of the input, floating-point operations will not be computed\n",
      "/home/ys5hd/.conda/envs/hface/lib/python3.8/site-packages/torch/utils/checkpoint.py:429: UserWarning: torch.utils.checkpoint: please pass in use_reentrant=True or use_reentrant=False explicitly. The default value of use_reentrant will be updated to be False in the future. To maintain current behavior, pass use_reentrant=True. It is recommended that you use use_reentrant=False. Refer to docs for more details on the differences between the two variants.\n",
      "  warnings.warn(\n"
     ]
    },
    {
     "data": {
      "text/html": [
       "\n",
       "    <div>\n",
       "      \n",
       "      <progress value='9364' max='11967' style='width:300px; height:20px; vertical-align: middle;'></progress>\n",
       "      [ 9364/11967 8:43:01 < 2:25:25, 0.30 it/s, Epoch 0.78/1]\n",
       "    </div>\n",
       "    <table border=\"1\" class=\"dataframe\">\n",
       "  <thead>\n",
       " <tr style=\"text-align: left;\">\n",
       "      <th>Step</th>\n",
       "      <th>Training Loss</th>\n",
       "      <th>Validation Loss</th>\n",
       "      <th>Rewards/chosen</th>\n",
       "      <th>Rewards/rejected</th>\n",
       "      <th>Rewards/accuracies</th>\n",
       "      <th>Rewards/margins</th>\n",
       "      <th>Logps/rejected</th>\n",
       "      <th>Logps/chosen</th>\n",
       "      <th>Logits/rejected</th>\n",
       "      <th>Logits/chosen</th>\n",
       "    </tr>\n",
       "  </thead>\n",
       "  <tbody>\n",
       "    <tr>\n",
       "      <td>5000</td>\n",
       "      <td>0.723100</td>\n",
       "      <td>0.699168</td>\n",
       "      <td>-0.276585</td>\n",
       "      <td>-0.951571</td>\n",
       "      <td>0.636544</td>\n",
       "      <td>0.674986</td>\n",
       "      <td>-124.498116</td>\n",
       "      <td>-122.243507</td>\n",
       "      <td>-1.067540</td>\n",
       "      <td>-1.024356</td>\n",
       "    </tr>\n",
       "  </tbody>\n",
       "</table><p>"
      ],
      "text/plain": [
       "<IPython.core.display.HTML object>"
      ]
     },
     "metadata": {},
     "output_type": "display_data"
    },
    {
     "name": "stderr",
     "output_type": "stream",
     "text": [
      "/home/ys5hd/.conda/envs/hface/lib/python3.8/site-packages/torch/utils/checkpoint.py:429: UserWarning: torch.utils.checkpoint: please pass in use_reentrant=True or use_reentrant=False explicitly. The default value of use_reentrant will be updated to be False in the future. To maintain current behavior, pass use_reentrant=True. It is recommended that you use use_reentrant=False. Refer to docs for more details on the differences between the two variants.\n",
      "  warnings.warn(\n",
      "IOPub message rate exceeded.\n",
      "The notebook server will temporarily stop sending output\n",
      "to the client in order to avoid crashing it.\n",
      "To change this limit, set the config variable\n",
      "`--NotebookApp.iopub_msg_rate_limit`.\n",
      "\n",
      "Current values:\n",
      "NotebookApp.iopub_msg_rate_limit=1000.0 (msgs/sec)\n",
      "NotebookApp.rate_limit_window=3.0 (secs)\n",
      "\n"
     ]
    }
   ],
   "source": [
    "# initialize the DPO trainer\n",
    "dpo_trainer = DPOTrainer(\n",
    "    model,\n",
    "    model_ref,\n",
    "    args = training_args,\n",
    "    beta = 0.1,\n",
    "    train_dataset = train_dataset,\n",
    "    eval_dataset = eval_dataset,\n",
    "    tokenizer = tokenizer,\n",
    "    peft_config = peft_config,\n",
    "    max_prompt_length = MAX_LENGTH,\n",
    "    max_length = MAX_LENGTH,\n",
    ")\n",
    "\n",
    "# Train\n",
    "dpo_trainer.train()    "
   ]
  },
  {
   "cell_type": "markdown",
   "metadata": {},
   "source": [
    "### Save Model for Evaluation"
   ]
  },
  {
   "cell_type": "code",
   "execution_count": 15,
   "metadata": {},
   "outputs": [],
   "source": [
    "dpo_trainer.save_model(\"dpo/llama2_sft_orca_1024\")\n",
    "dpo_trainer.model.save_pretrained(\"dpo/llama2_sft_orca_1024/final_checkpoint\")"
   ]
  }
 ],
 "metadata": {
  "kernelspec": {
   "display_name": "hface",
   "language": "python",
   "name": "hface"
  },
  "language_info": {
   "codemirror_mode": {
    "name": "ipython",
    "version": 3
   },
   "file_extension": ".py",
   "mimetype": "text/x-python",
   "name": "python",
   "nbconvert_exporter": "python",
   "pygments_lexer": "ipython3",
   "version": "3.8.18"
  }
 },
 "nbformat": 4,
 "nbformat_minor": 4
}
